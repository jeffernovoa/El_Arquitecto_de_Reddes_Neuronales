{
  "nbformat": 4,
  "nbformat_minor": 0,
  "metadata": {
    "colab": {
      "provenance": [],
      "gpuType": "T4"
    },
    "kernelspec": {
      "name": "python3",
      "display_name": "Python 3"
    },
    "language_info": {
      "name": "python"
    },
    "accelerator": "GPU"
  },
  "cells": [
    {
      "cell_type": "markdown",
      "metadata": {
        "id": "gd62ecXytn2N"
      },
      "source": [
        "# **Reconocimiento de números escritos**\n",
        "En este cuaderno, construiremos una red neuronal que reconozca los números escritos del 0 al 9.\n",
        "\n",
        "Este tipo de red neuronal se utiliza en una variedad de aplicaciones del mundo real, incluyendo: el reconocimiento de números de teléfono y la clasificación del correo postal por dirección. Para construir la red, utilizaremos el conjunto de datos MNIST, que consiste en imágenes de números escritos a mano y sus etiquetas correctas del 0 al 9.\n",
        "\n",
        "Utilizaremos keras, una biblioteca de alto nivel construida sobre TensorFlow para construir la red neuronal. Empezaremos importando todos los módulos que necesitaremos, luego cargaremos los datos y finalmente construiremos la red."
      ]
    },
    {
      "cell_type": "code",
      "metadata": {
        "id": "FNcFrAYJteEz"
      },
      "source": [
        "import numpy as np\n",
        "import tensorflow as tf\n",
        "from keras.models import Sequential, Model\n",
        "from keras.layers import Dense, Input, Flatten\n",
        "from keras.datasets import mnist\n",
        "from sklearn.metrics import confusion_matrix, classification_report\n",
        "import matplotlib.pyplot as plt\n",
        "%matplotlib inline\n",
        "\n",
        "from keras.utils import to_categorical"
      ],
      "execution_count": 27,
      "outputs": []
    },
    {
      "cell_type": "markdown",
      "metadata": {
        "id": "Co5MIc6auDPj"
      },
      "source": [
        "# **Preparación de los datos de entrenamiento y de prueba**\n",
        "\n",
        "El conjunto de datos MNIST ya contiene datos de entrenamiento y de prueba. Hay 55.000 puntos de datos de entrenamiento y 10.000 puntos de datos de prueba.\n",
        "\n",
        "Cada punto de datos MNIST tiene una imagen de un dígito escrito a mano y\n",
        "una etiqueta correspondiente (un número 0-9 que identifica la imagen)\n",
        "Llamaremos a las imágenes, que serán la entrada de nuestra red neuronal, X y a sus correspondientes etiquetas Y.\n",
        "\n",
        "Vamos a querer que nuestras etiquetas sean vectores de un solo punto, es decir, vectores que contienen mayoritariamente 0 y un 1. Es más fácil ver esto en un ejemplo. Como un vector de un solo golpe, el número 0 se representa como [1, 0, 0, 0, 0, 0, 0, 0, 0], y 4 se representa como [0, 0, 0, 0, 1, 0, 0, 0, 0].\n",
        "\n",
        "\n",
        "# Datos aplanados (Flatten)\n",
        "Para este ejemplo, utilizaremos datos aplanados o una representación de las imágenes MNIST en una dimensión en lugar de dos. Así, cada imagen de números escritos a mano, que tiene 28x28 píxeles, se representará como una matriz unidimensional de 784 valores de píxeles.\n",
        "\n",
        "El aplanamiento de los datos elimina la información sobre la estructura 2D de la imagen, pero simplifica nuestros datos para que todos los datos de entrenamiento puedan estar contenidos en una matriz cuya forma es [55000, 784]; la primera dimensión es el número de imágenes de entrenamiento y la segunda el número de píxeles de cada imagen. Este es el tipo de datos que es fácil de analizar utilizando una red neuronal simple."
      ]
    },
    {
      "cell_type": "code",
      "metadata": {
        "id": "aVetL8D9uCZl"
      },
      "source": [
        "# Cargamos los datos de train y test\n",
        "(trainX, trainY), (testX, testY) = mnist.load_data()"
      ],
      "execution_count": 28,
      "outputs": []
    },
    {
      "cell_type": "markdown",
      "metadata": {
        "id": "9sDfwLvYvReo"
      },
      "source": [
        "**Introducir el código necesario para visualizar el tamaño de los datos obtenidos**"
      ]
    },
    {
      "cell_type": "code",
      "metadata": {
        "id": "nhz-eLjEujno",
        "colab": {
          "base_uri": "https://localhost:8080/"
        },
        "outputId": "308fa179-fc2a-4765-e7b6-5314fc2d807b"
      },
      "source": [
        "print(\"trainx: \", trainX.shape)\n",
        "print(\"trainy: \", trainY.shape)\n",
        "print(\"testx: \", testX.shape)\n",
        "print(\"testy: \", testY.shape)"
      ],
      "execution_count": 29,
      "outputs": [
        {
          "output_type": "stream",
          "name": "stdout",
          "text": [
            "trainx:  (60000, 28, 28)\n",
            "trainy:  (60000,)\n",
            "testx:  (10000, 28, 28)\n",
            "testy:  (10000,)\n"
          ]
        }
      ]
    },
    {
      "cell_type": "markdown",
      "metadata": {
        "id": "pPZxh30KvbyM"
      },
      "source": [
        "# **Visualizar los datos de entrenamiento**\n",
        "A continuación se presenta una función que le ayudará a visualizar los datos de MNIST. Al pasar el índice de un ejemplo de entrenamiento, la función show_digit mostrará esa imagen de entrenamiento junto con su correspondiente etiqueta en el título."
      ]
    },
    {
      "cell_type": "code",
      "metadata": {
        "colab": {
          "base_uri": "https://localhost:8080/",
          "height": 452
        },
        "id": "NOrVb4NzvrPY",
        "outputId": "c3e3e5c3-9060-42dc-d83c-28300b9a55fa"
      },
      "source": [
        "#Función para visualizar los datos que acabamos de cargar\n",
        "def display_digit(index):\n",
        "    label = trainY[index].argmax(axis=0)\n",
        "    # Reshape 784 array into 28x28 image\n",
        "    image = trainX[index].reshape([28,28])\n",
        "    plt.title('Training data, index: %d,  Label: %d' % (index, label))\n",
        "    plt.imshow(image, cmap='gray_r')\n",
        "    plt.show()\n",
        "\n",
        "# Visualizamos el dígito que queramos pasando una posicióndel array\n",
        "display_digit(4)"
      ],
      "execution_count": 30,
      "outputs": [
        {
          "output_type": "display_data",
          "data": {
            "text/plain": [
              "<Figure size 640x480 with 1 Axes>"
            ],
            "image/png": "[encoded data removed]"
          },
          "metadata": {}
        }
      ]
    },
    {
      "cell_type": "markdown",
      "metadata": {
        "id": "usFaftm6wD_P"
      },
      "source": [
        "# **Construir la red**\n",
        "Keras te permite construir la red definiendo las capas de la misma.\n",
        "\n",
        "Para este ejemplo, hay que definir:\n",
        "  \n",
        "\n",
        "1.   La capa de entrada, que indica a la red el número de entradas que debe esperar para cada dato MNIST.\n",
        "2.   Las capas ocultas, que reconocen patrones en los datos y conectan la entrada con la capa de salida\n",
        "3.   La capa de salida, que define cómo la red aprende y emite una etiqueta para una imagen determinada.\n",
        "\n",
        "\n",
        "Empecemos por la capa de entrada; para definir la capa de entrada, se definirá el tipo de datos que espera la red. Por ejemplo:\n",
        "\n",
        "\n",
        "```\n",
        "model = Sequential()\n",
        "model.add(keras.Input(shape=(100,)))\n",
        "```\n",
        "\n",
        "\n",
        "\n",
        "\n",
        "crearía una red con 100 entradas, tener en cuenta que esta definición es para un modelo secuencial. **El número de entradas de su red debe coincidir con el tamaño de sus datos**. En este ejemplo, estamos utilizando vectores largos de 784 elementos para codificar nuestros datos de entrada, por lo que necesitamos 784 unidades de entrada."
      ]
    },
    {
      "cell_type": "markdown",
      "metadata": {
        "id": "vU55P7RRw-TN"
      },
      "source": [
        "# **Añadir capas**\n",
        "Para añadir nuevas capas ocultas, se utiliza:\n",
        "\n",
        "`model.add(Dense(128, activation='relu'))`\n",
        "\n",
        "Esto añade una capa totalmente conectada (fully connected, dense o MLP) donde cada unidad (o nodo) de la capa anterior está conectada a cada unidad de esta capa. El primer argumento establece el número de unidades en la capa, y establecer la función de activación con la palabra clave activation. Puedes seguir añadiendo capas a tu red llamando repetidamente.\n",
        "\n",
        "Luego, para establecer cómo se entrena la red, utilice:\n",
        "\n",
        "`model.compile(optimizer='sgd', learning_rate=0.1,loss='categorical_crossentropy')`\n",
        "\n",
        "De nuevo, esto es pasar la red que has estado construyendo. Las palabras clave\n",
        "optimizer establece el método de entrenamiento, aquí el descenso de gradiente estocástico learning_rate es la tasa de aprendizaje y loss determina cómo se calcula el error de la red. En este ejemplo, con entropía cruzada categórica."
      ]
    },
    {
      "cell_type": "code",
      "source": [
        "dim_input = trainX.shape[1] * trainX.shape[2]\n",
        "\n",
        "trainX_norm = trainX / 255\n",
        "testX_norm = testX / 255\n",
        "\n",
        "trainY_cate = to_categorical(trainY)\n",
        "testY_cate = to_categorical(testY)\n",
        "\n",
        "testY_cate[2]"
      ],
      "metadata": {
        "colab": {
          "base_uri": "https://localhost:8080/"
        },
        "id": "m2K2GT-OiMg3",
        "outputId": "a316f2f9-7da9-4f99-dcd2-c13753d33569"
      },
      "execution_count": 31,
      "outputs": [
        {
          "output_type": "execute_result",
          "data": {
            "text/plain": [
              "array([0., 1., 0., 0., 0., 0., 0., 0., 0., 0.])"
            ]
          },
          "metadata": {},
          "execution_count": 31
        }
      ]
    },
    {
      "cell_type": "code",
      "metadata": {
        "id": "HoxX2CS0vzwq"
      },
      "source": [
        "# Nuestro modelo\n",
        "def build_model():\n",
        "    # Con esta linea se resetean todos los parametros y variables\n",
        "    #@tf.campat.v1.reset_default_graph()\n",
        "\n",
        "    #### Your code ####\n",
        "    model = Sequential()\n",
        "    model.add(Input(shape=(dim_input,)))\n",
        "    model.add(Dense(dim_input, activation='relu'))\n",
        "    model.add(Dense(64, activation='relu'))\n",
        "    model.add(Dense(10,activation='softmax'))\n",
        "\n",
        "    model.compile(loss= 'categorical_crossentropy', optimizer = 'adam', metrics=['accuracy'])\n",
        "\n",
        "    return model"
      ],
      "execution_count": 32,
      "outputs": []
    },
    {
      "cell_type": "markdown",
      "metadata": {
        "id": "CYw1byIny9PU"
      },
      "source": [
        "# **Entrenamiento de la red**\n",
        "Ahora que hemos construido la red, guardada como variable modelo, podemos ajustarla a los datos. Para ello utilizamos el método model.fit. Se pasan las características de entrenamiento trainX y los objetivos de entrenamiento trainY. También puedes establecer el tamaño del batch y el número de epochs con las palabras clave batch_size y epochs, respectivamente.\n",
        "\n",
        "\n",
        "\n",
        "```\n",
        "Model.fit( x=None, y=None, batch_size=None, epochs=1, verbose=\"auto\")\n",
        "```\n",
        "\n",
        "\n",
        "\n",
        "\n",
        "Muy pocos epochs no permiten que la red termine de entrenar, y demasiadas tardan mucho tiempo en ejecutarse. Elija con cuidado."
      ]
    },
    {
      "cell_type": "code",
      "metadata": {
        "id": "oS_HfWvA2YBc",
        "colab": {
          "base_uri": "https://localhost:8080/",
          "height": 225
        },
        "outputId": "4c73b4ef-5e5a-4517-8a76-7f1bf94df796"
      },
      "source": [
        "model_tofit = build_model()\n",
        "\n",
        "model_tofit.summary()"
      ],
      "execution_count": 33,
      "outputs": [
        {
          "output_type": "display_data",
          "data": {
            "text/plain": [
              "\u001b[1mModel: \"sequential_1\"\u001b[0m\n"
            ],
            "text/html": [
              "<pre style=\"white-space:pre;overflow-x:auto;line-height:normal;font-family:Menlo,'DejaVu Sans Mono',consolas,'Courier New',monospace\"><span style=\"font-weight: bold\">Model: \"sequential_1\"</span>\n",
              "</pre>\n"
            ]
          },
          "metadata": {}
        },
        {
          "output_type": "display_data",
          "data": {
            "text/plain": [
              "┏━━━━━━━━━━━━━━━━━━━━━━━━━━━━━━━━━┳━━━━━━━━━━━━━━━━━━━━━━━━┳━━━━━━━━━━━━━━━┓\n",
              "┃\u001b[1m \u001b[0m\u001b[1mLayer (type)                   \u001b[0m\u001b[1m \u001b[0m┃\u001b[1m \u001b[0m\u001b[1mOutput Shape          \u001b[0m\u001b[1m \u001b[0m┃\u001b[1m \u001b[0m\u001b[1m      Param #\u001b[0m\u001b[1m \u001b[0m┃\n",
              "┡━━━━━━━━━━━━━━━━━━━━━━━━━━━━━━━━━╇━━━━━━━━━━━━━━━━━━━━━━━━╇━━━━━━━━━━━━━━━┩\n",
              "│ dense_3 (\u001b[38;5;33mDense\u001b[0m)                 │ (\u001b[38;5;45mNone\u001b[0m, \u001b[38;5;34m784\u001b[0m)            │       \u001b[38;5;34m615,440\u001b[0m │\n",
              "├─────────────────────────────────┼────────────────────────┼───────────────┤\n",
              "│ dense_4 (\u001b[38;5;33mDense\u001b[0m)                 │ (\u001b[38;5;45mNone\u001b[0m, \u001b[38;5;34m64\u001b[0m)             │        \u001b[38;5;34m50,240\u001b[0m │\n",
              "├─────────────────────────────────┼────────────────────────┼───────────────┤\n",
              "│ dense_5 (\u001b[38;5;33mDense\u001b[0m)                 │ (\u001b[38;5;45mNone\u001b[0m, \u001b[38;5;34m10\u001b[0m)             │           \u001b[38;5;34m650\u001b[0m │\n",
              "└─────────────────────────────────┴────────────────────────┴───────────────┘\n"
            ],
            "text/html": [
              "<pre style=\"white-space:pre;overflow-x:auto;line-height:normal;font-family:Menlo,'DejaVu Sans Mono',consolas,'Courier New',monospace\">┏━━━━━━━━━━━━━━━━━━━━━━━━━━━━━━━━━┳━━━━━━━━━━━━━━━━━━━━━━━━┳━━━━━━━━━━━━━━━┓\n",
              "┃<span style=\"font-weight: bold\"> Layer (type)                    </span>┃<span style=\"font-weight: bold\"> Output Shape           </span>┃<span style=\"font-weight: bold\">       Param # </span>┃\n",
              "┡━━━━━━━━━━━━━━━━━━━━━━━━━━━━━━━━━╇━━━━━━━━━━━━━━━━━━━━━━━━╇━━━━━━━━━━━━━━━┩\n",
              "│ dense_3 (<span style=\"color: #0087ff; text-decoration-color: #0087ff\">Dense</span>)                 │ (<span style=\"color: #00d7ff; text-decoration-color: #00d7ff\">None</span>, <span style=\"color: #00af00; text-decoration-color: #00af00\">784</span>)            │       <span style=\"color: #00af00; text-decoration-color: #00af00\">615,440</span> │\n",
              "├─────────────────────────────────┼────────────────────────┼───────────────┤\n",
              "│ dense_4 (<span style=\"color: #0087ff; text-decoration-color: #0087ff\">Dense</span>)                 │ (<span style=\"color: #00d7ff; text-decoration-color: #00d7ff\">None</span>, <span style=\"color: #00af00; text-decoration-color: #00af00\">64</span>)             │        <span style=\"color: #00af00; text-decoration-color: #00af00\">50,240</span> │\n",
              "├─────────────────────────────────┼────────────────────────┼───────────────┤\n",
              "│ dense_5 (<span style=\"color: #0087ff; text-decoration-color: #0087ff\">Dense</span>)                 │ (<span style=\"color: #00d7ff; text-decoration-color: #00d7ff\">None</span>, <span style=\"color: #00af00; text-decoration-color: #00af00\">10</span>)             │           <span style=\"color: #00af00; text-decoration-color: #00af00\">650</span> │\n",
              "└─────────────────────────────────┴────────────────────────┴───────────────┘\n",
              "</pre>\n"
            ]
          },
          "metadata": {}
        },
        {
          "output_type": "display_data",
          "data": {
            "text/plain": [
              "\u001b[1m Total params: \u001b[0m\u001b[38;5;34m666,330\u001b[0m (2.54 MB)\n"
            ],
            "text/html": [
              "<pre style=\"white-space:pre;overflow-x:auto;line-height:normal;font-family:Menlo,'DejaVu Sans Mono',consolas,'Courier New',monospace\"><span style=\"font-weight: bold\"> Total params: </span><span style=\"color: #00af00; text-decoration-color: #00af00\">666,330</span> (2.54 MB)\n",
              "</pre>\n"
            ]
          },
          "metadata": {}
        },
        {
          "output_type": "display_data",
          "data": {
            "text/plain": [
              "\u001b[1m Trainable params: \u001b[0m\u001b[38;5;34m666,330\u001b[0m (2.54 MB)\n"
            ],
            "text/html": [
              "<pre style=\"white-space:pre;overflow-x:auto;line-height:normal;font-family:Menlo,'DejaVu Sans Mono',consolas,'Courier New',monospace\"><span style=\"font-weight: bold\"> Trainable params: </span><span style=\"color: #00af00; text-decoration-color: #00af00\">666,330</span> (2.54 MB)\n",
              "</pre>\n"
            ]
          },
          "metadata": {}
        },
        {
          "output_type": "display_data",
          "data": {
            "text/plain": [
              "\u001b[1m Non-trainable params: \u001b[0m\u001b[38;5;34m0\u001b[0m (0.00 B)\n"
            ],
            "text/html": [
              "<pre style=\"white-space:pre;overflow-x:auto;line-height:normal;font-family:Menlo,'DejaVu Sans Mono',consolas,'Courier New',monospace\"><span style=\"font-weight: bold\"> Non-trainable params: </span><span style=\"color: #00af00; text-decoration-color: #00af00\">0</span> (0.00 B)\n",
              "</pre>\n"
            ]
          },
          "metadata": {}
        }
      ]
    },
    {
      "cell_type": "code",
      "source": [
        "trainX_norm = trainX_norm.reshape(trainX_norm.shape[0], dim_input)\n",
        "testX_norm = testX_norm.reshape(testX_norm.shape[0], dim_input)\n",
        "model_tofit.fit(trainX_norm, trainY_cate, validation_data=(testX_norm, testY_cate), epochs=5, batch_size=128, verbose=2)"
      ],
      "metadata": {
        "colab": {
          "base_uri": "https://localhost:8080/"
        },
        "id": "exuRmPLLkvY5",
        "outputId": "83ce9f5c-a43d-4a49-e0c1-009df953d9be"
      },
      "execution_count": 34,
      "outputs": [
        {
          "output_type": "stream",
          "name": "stdout",
          "text": [
            "Epoch 1/5\n",
            "469/469 - 4s - 8ms/step - accuracy: 0.9310 - loss: 0.2372 - val_accuracy: 0.9665 - val_loss: 0.1109\n",
            "Epoch 2/5\n",
            "469/469 - 1s - 3ms/step - accuracy: 0.9740 - loss: 0.0852 - val_accuracy: 0.9756 - val_loss: 0.0817\n",
            "Epoch 3/5\n",
            "469/469 - 1s - 3ms/step - accuracy: 0.9834 - loss: 0.0544 - val_accuracy: 0.9789 - val_loss: 0.0695\n",
            "Epoch 4/5\n",
            "469/469 - 1s - 3ms/step - accuracy: 0.9885 - loss: 0.0376 - val_accuracy: 0.9800 - val_loss: 0.0664\n",
            "Epoch 5/5\n",
            "469/469 - 1s - 3ms/step - accuracy: 0.9912 - loss: 0.0282 - val_accuracy: 0.9815 - val_loss: 0.0662\n"
          ]
        },
        {
          "output_type": "execute_result",
          "data": {
            "text/plain": [
              "<keras.src.callbacks.history.History at 0x786c72588290>"
            ]
          },
          "metadata": {},
          "execution_count": 34
        }
      ]
    },
    {
      "cell_type": "markdown",
      "metadata": {
        "id": "zf672cs82bmw"
      },
      "source": [
        "\n",
        "# **Testing**\n",
        "\n",
        "Una vez que estés satisfecho con el resultado del entrenamiento y la precisión, puedes ejecutar la red en el conjunto de datos de test para medir su rendimiento. Recuerda que sólo debes hacer esto después de haber realizado el entrenamiento y estar satisfecho con los resultados.\n",
        "\n",
        "Un buen resultado será superior al 95% de precisión. Se sabe que algunos modelos sencillos alcanzan una precisión del 99,7%."
      ]
    },
    {
      "cell_type": "code",
      "metadata": {
        "id": "GtqwCVLL24Vq",
        "colab": {
          "base_uri": "https://localhost:8080/"
        },
        "outputId": "4bb5d58e-9f70-4520-b745-bee25aa1ab5d"
      },
      "source": [
        "# Comparar los resultados obtenidos de la predicción del modelo con las clases reales\n",
        "\n",
        "# HAY QUE AJUSTAR ESTA LÍNEA\n",
        "# Con la función argmax lo que hacemos es obtener el índice con mayor valor del array (en este caso de un array [ 0  0.2  0.2 0.1 0.5] obtendriamos un 4)\n",
        "predictions = np.array(model_tofit.predict(testX_norm)).argmax(axis=1)\n",
        "\n",
        "# Igual ocurre con las clases reales, lo traducimos de array a valor numérico y sacamos la media de aciertos\n",
        "actual = testY_cate.argmax(axis=1)\n",
        "test_accuracy = np.mean(predictions == actual, axis=0)\n",
        "\n",
        "# Print out the result\n",
        "print(\"Test accuracy: \", test_accuracy)"
      ],
      "execution_count": 35,
      "outputs": [
        {
          "output_type": "stream",
          "name": "stdout",
          "text": [
            "\u001b[1m313/313\u001b[0m \u001b[32m━━━━━━━━━━━━━━━━━━━━\u001b[0m\u001b[37m\u001b[0m \u001b[1m1s\u001b[0m 2ms/step\n",
            "Test accuracy:  0.9815\n"
          ]
        }
      ]
    },
    {
      "cell_type": "code",
      "source": [
        "confusion_matrix(y_true=actual, y_pred=testY_cate.argmax(axis=1))"
      ],
      "metadata": {
        "colab": {
          "base_uri": "https://localhost:8080/"
        },
        "id": "KNVvC6Ntl2bv",
        "outputId": "c640dda2-e88a-4725-9abe-17c142e00978"
      },
      "execution_count": 36,
      "outputs": [
        {
          "output_type": "execute_result",
          "data": {
            "text/plain": [
              "array([[ 980,    0,    0,    0,    0,    0,    0,    0,    0,    0],\n",
              "       [   0, 1135,    0,    0,    0,    0,    0,    0,    0,    0],\n",
              "       [   0,    0, 1032,    0,    0,    0,    0,    0,    0,    0],\n",
              "       [   0,    0,    0, 1010,    0,    0,    0,    0,    0,    0],\n",
              "       [   0,    0,    0,    0,  982,    0,    0,    0,    0,    0],\n",
              "       [   0,    0,    0,    0,    0,  892,    0,    0,    0,    0],\n",
              "       [   0,    0,    0,    0,    0,    0,  958,    0,    0,    0],\n",
              "       [   0,    0,    0,    0,    0,    0,    0, 1028,    0,    0],\n",
              "       [   0,    0,    0,    0,    0,    0,    0,    0,  974,    0],\n",
              "       [   0,    0,    0,    0,    0,    0,    0,    0,    0, 1009]])"
            ]
          },
          "metadata": {},
          "execution_count": 36
        }
      ]
    },
    {
      "cell_type": "code",
      "source": [
        "print (classification_report(np.argmax(testY_cate, axis=1), actual))"
      ],
      "metadata": {
        "colab": {
          "base_uri": "https://localhost:8080/"
        },
        "id": "bakWzRJimOX2",
        "outputId": "4cb43747-1c68-417e-f235-2530d3ef8914"
      },
      "execution_count": 37,
      "outputs": [
        {
          "output_type": "stream",
          "name": "stdout",
          "text": [
            "              precision    recall  f1-score   support\n",
            "\n",
            "           0       1.00      1.00      1.00       980\n",
            "           1       1.00      1.00      1.00      1135\n",
            "           2       1.00      1.00      1.00      1032\n",
            "           3       1.00      1.00      1.00      1010\n",
            "           4       1.00      1.00      1.00       982\n",
            "           5       1.00      1.00      1.00       892\n",
            "           6       1.00      1.00      1.00       958\n",
            "           7       1.00      1.00      1.00      1028\n",
            "           8       1.00      1.00      1.00       974\n",
            "           9       1.00      1.00      1.00      1009\n",
            "\n",
            "    accuracy                           1.00     10000\n",
            "   macro avg       1.00      1.00      1.00     10000\n",
            "weighted avg       1.00      1.00      1.00     10000\n",
            "\n"
          ]
        }
      ]
    }
  ]
}